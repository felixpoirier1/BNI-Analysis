{
 "cells": [
  {
   "cell_type": "code",
   "execution_count": null,
   "metadata": {},
   "outputs": [
    {
     "ename": "",
     "evalue": "",
     "output_type": "error",
     "traceback": [
      "\u001b[1;31mFailed to start the Kernel. \n",
      "Kernel base (Python 3.8.5) is not usable. Check the Jupyter output tab for more information. \n",
      "View Jupyter <a href='command:jupyter.viewOutput'>log</a> for further details."
     ]
    }
   ],
   "source": [
    "import datetime as dt\n",
    "import pandas as pd\n",
    "import pandas_datareader as web\n",
    "from fredapi import Fred\n",
    "fred = Fred(api_key='c9fa6f012c9ea24190b41703d64f6d08')\n",
    "\n",
    "# 'start' et \"end\" correspondent à la date de début et la date de fin des séries de donnés que nous allons importer\n",
    "start = dt.datetime(2017, 4, 1)\n",
    "end = dt.datetime(2022, 3, 1)\n",
    "\n",
    "# \"var_indep_dict\" est le dictionnaire stockant les variables explicative. Les clefs correspondent aux codes des données et\n",
    "# les valeurs sont des dataframes\n",
    "var_exp_dict = {}\n",
    "\n",
    "var_exp_df = pd.DataFrame()\n",
    "\n",
    "var_exp = ['dhhngsp','dcoilwtico','dcoilbrenteu', 'will5000prfc','dpropanembtx','dhoilnyh','willresipr',\n",
    "           'vixcls','gvzcls','ovxcls','vxvcls', 'dexuseu', 'dexusuk', 'dexchus', 'dexjpus', 'dexkous',\n",
    "           'dexmxus', 'dexinus', 'dexvzus', 'dexbzus', 'dexszus', 'IHLCHG10740', \"IHLCHG10420\", \"IHLCHG28940\", \n",
    "           \"IHLCHG44060\", \"DTWEXEMEGS\", \"USRECD\", \"EURORECD\", \"JPNRECDP\"\n",
    "          ]\n",
    "\n",
    "for i in var_exp:\n",
    "    # téléchargement sur la fed américaine à l'aide de pandas datareader\n",
    "    var_exp_dict[i] = web.DataReader(i.upper(), 'fred', start, end)\n",
    "    if var_exp_df.empty:\n",
    "        var_exp_df = var_exp_dict[i]\n",
    "    else:\n",
    "        var_exp_df = var_exp_df.join(var_exp_dict[i])\n",
    "\n",
    "\n",
    "\n",
    "var_exp_labels = []\n",
    "\n",
    "# pour transformer les quotes de var_exp en titres plus compréhensibles\n",
    "for old_key in var_exp:\n",
    "    new_key = fred.get_series_info(old_key)['title']\n",
    "    var_exp_labels.append(new_key)\n",
    "\n",
    "# ceci est nécessaire pour des opérations plus tard\n",
    "var_exp_up = [i.upper() for i in var_exp]\n",
    "    \n",
    "mapper = dict(zip(var_exp_up, var_exp_labels))\n",
    "\n",
    "var_indep_dict = var_exp_df.rename(columns=mapper)"
   ]
  },
  {
   "cell_type": "code",
   "execution_count": null,
   "metadata": {},
   "outputs": [
    {
     "ename": "",
     "evalue": "",
     "output_type": "error",
     "traceback": [
      "\u001b[1;31mFailed to start the Kernel. \n",
      "Kernel base (Python 3.8.5) is not usable. Check the Jupyter output tab for more information. \n",
      "View Jupyter <a href='command:jupyter.viewOutput'>log</a> for further details."
     ]
    }
   ],
   "source": [
    "dict_direction = {\"ALIMENTAIRE\":\"COW.TO\",\n",
    "                  \"COMMODITÉS\":\"VPU\",\n",
    "                  \"CONSOMMATION\":\"XRT\", \n",
    "                  \"ÉNERGIE\":\"^GSPE\",\n",
    "                  \"FINANCE\":\"KRE\",\n",
    "                  \"TECHNOLOGIE\":\"^SP500-45\",\n",
    "                  \"STAPLES\": \"^SP500-30\",\n",
    "                  \"AEROSPACE\": \"^DJUSAS\",\n",
    "                  \"REALESTATE\": \"^DJUSRE\"\n",
    "                  }\n"
   ]
  },
  {
   "cell_type": "code",
   "execution_count": null,
   "metadata": {},
   "outputs": [],
   "source": []
  }
 ],
 "metadata": {
  "interpreter": {
   "hash": "40d3a090f54c6569ab1632332b64b2c03c39dcf918b08424e98f38b5ae0af88f"
  },
  "kernelspec": {
   "display_name": "Python 3.8.5 ('base')",
   "language": "python",
   "name": "python3"
  },
  "language_info": {
   "name": "python",
   "version": "3.8.5"
  },
  "orig_nbformat": 4
 },
 "nbformat": 4,
 "nbformat_minor": 2
}
